{
 "cells": [
  {
   "cell_type": "markdown",
   "metadata": {},
   "source": [
    "## Import packages"
   ]
  },
  {
   "cell_type": "code",
   "execution_count": 3,
   "metadata": {},
   "outputs": [],
   "source": [
    "import numpy as np\n",
    "import matplotlib.pyplot as plt\n",
    "import seaborn as sns\n",
    "import pandas as pd\n",
    "sns.set()"
   ]
  },
  {
   "cell_type": "code",
   "execution_count": 61,
   "metadata": {},
   "outputs": [],
   "source": [
    "url_2012 = \"https://assets.datacamp.com/production/course_1550/datasets/finch_beaks_2012.csv\"\n",
    "file = pd.read_csv(url_2012)\n",
    "df_2012=pd.DataFrame(file)\n",
    "df_2012['year']=int(2012)\n",
    "\n",
    "url_1975 = \"https://assets.datacamp.com/production/course_1550/datasets/finch_beaks_1975.csv\"\n",
    "file = pd.read_csv(url_1975)\n",
    "df_1975=pd.DataFrame(file)\n",
    "df_1975['year']=int(1975)\n",
    "\n",
    "df_1975.rename(columns={\"Beak depth, mm\":\"beak_depth\",\"Beak length, mm\":\"blength\"},inplace=True)\n",
    "df_2012.rename(columns={\"bdepth\":\"beak_depth\"},inplace=True)\n",
    "\n",
    "\n",
    "df=pd.concat([df_1975,df_2012],axis=0)[['beak_depth','year']]"
   ]
  },
  {
   "cell_type": "code",
   "execution_count": 63,
   "metadata": {
    "scrolled": true
   },
   "outputs": [
    {
     "name": "stdout",
     "output_type": "stream",
     "text": [
      "   beak_depth  year\n",
      "0         8.0  1975\n",
      "1         8.3  1975\n",
      "2         7.5  1975\n",
      "3         8.0  1975\n",
      "4         9.9  1975\n"
     ]
    },
    {
     "data": {
      "text/plain": [
       "(651, 2)"
      ]
     },
     "execution_count": 63,
     "metadata": {},
     "output_type": "execute_result"
    }
   ],
   "source": [
    "print(df.head())\n",
    "df_2012.columns\n",
    "df_1975.columns\n",
    "df.shape"
   ]
  },
  {
   "cell_type": "code",
   "execution_count": null,
   "metadata": {},
   "outputs": [],
   "source": []
  },
  {
   "cell_type": "code",
   "execution_count": 1,
   "metadata": {},
   "outputs": [
    {
     "ename": "SyntaxError",
     "evalue": "invalid syntax (<ipython-input-1-08888ee2b510>, line 1)",
     "output_type": "error",
     "traceback": [
      "\u001b[1;36m  File \u001b[1;32m\"<ipython-input-1-08888ee2b510>\"\u001b[1;36m, line \u001b[1;32m1\u001b[0m\n\u001b[1;33m    https://assets.datacamp.com/production/course_1550/datasets/finch_beaks_2012.csv\u001b[0m\n\u001b[1;37m           ^\u001b[0m\n\u001b[1;31mSyntaxError\u001b[0m\u001b[1;31m:\u001b[0m invalid syntax\n"
     ]
    }
   ],
   "source": [
    "https://assets.datacamp.com/production/course_1550/datasets/finch_beaks_2012.csv\n"
   ]
  },
  {
   "cell_type": "code",
   "execution_count": null,
   "metadata": {},
   "outputs": [],
   "source": []
  }
 ],
 "metadata": {
  "kernelspec": {
   "display_name": "Python 3",
   "language": "python",
   "name": "python3"
  },
  "language_info": {
   "codemirror_mode": {
    "name": "ipython",
    "version": 3
   },
   "file_extension": ".py",
   "mimetype": "text/x-python",
   "name": "python",
   "nbconvert_exporter": "python",
   "pygments_lexer": "ipython3",
   "version": "3.7.4"
  }
 },
 "nbformat": 4,
 "nbformat_minor": 2
}
